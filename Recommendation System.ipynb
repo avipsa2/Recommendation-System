{
 "cells": [
  {
   "cell_type": "code",
   "execution_count": 30,
   "id": "04428bc7",
   "metadata": {},
   "outputs": [],
   "source": [
    "import pandas as pd\n",
    "import numpy as np\n",
    "import re"
   ]
  },
  {
   "cell_type": "code",
   "execution_count": 31,
   "id": "8b813ae0",
   "metadata": {},
   "outputs": [],
   "source": [
    "\n",
    "df1 = pd.read_csv(r'C:\\Users\\Asus\\Downloads\\ml-25m\\ml-25m\\movies.csv')"
   ]
  },
  {
   "cell_type": "code",
   "execution_count": 32,
   "id": "c270fd0f",
   "metadata": {},
   "outputs": [],
   "source": [
    "from sklearn.feature_extraction.text import TfidfVectorizer\n",
    "from sklearn.metrics.pairwise import cosine_similarity\n",
    "from sklearn.decomposition import PCA\n",
    "from scipy.sparse import lil_matrix"
   ]
  },
  {
   "cell_type": "code",
   "execution_count": 33,
   "id": "64201833",
   "metadata": {
    "scrolled": false
   },
   "outputs": [
    {
     "data": {
      "text/html": [
       "<div>\n",
       "<style scoped>\n",
       "    .dataframe tbody tr th:only-of-type {\n",
       "        vertical-align: middle;\n",
       "    }\n",
       "\n",
       "    .dataframe tbody tr th {\n",
       "        vertical-align: top;\n",
       "    }\n",
       "\n",
       "    .dataframe thead th {\n",
       "        text-align: right;\n",
       "    }\n",
       "</style>\n",
       "<table border=\"1\" class=\"dataframe\">\n",
       "  <thead>\n",
       "    <tr style=\"text-align: right;\">\n",
       "      <th></th>\n",
       "      <th>movieId</th>\n",
       "      <th>title</th>\n",
       "      <th>genres</th>\n",
       "    </tr>\n",
       "  </thead>\n",
       "  <tbody>\n",
       "    <tr>\n",
       "      <th>0</th>\n",
       "      <td>1</td>\n",
       "      <td>Toy Story (1995)</td>\n",
       "      <td>Adventure|Animation|Children|Comedy|Fantasy</td>\n",
       "    </tr>\n",
       "    <tr>\n",
       "      <th>1</th>\n",
       "      <td>2</td>\n",
       "      <td>Jumanji (1995)</td>\n",
       "      <td>Adventure|Children|Fantasy</td>\n",
       "    </tr>\n",
       "    <tr>\n",
       "      <th>2</th>\n",
       "      <td>3</td>\n",
       "      <td>Grumpier Old Men (1995)</td>\n",
       "      <td>Comedy|Romance</td>\n",
       "    </tr>\n",
       "    <tr>\n",
       "      <th>3</th>\n",
       "      <td>4</td>\n",
       "      <td>Waiting to Exhale (1995)</td>\n",
       "      <td>Comedy|Drama|Romance</td>\n",
       "    </tr>\n",
       "    <tr>\n",
       "      <th>4</th>\n",
       "      <td>5</td>\n",
       "      <td>Father of the Bride Part II (1995)</td>\n",
       "      <td>Comedy</td>\n",
       "    </tr>\n",
       "  </tbody>\n",
       "</table>\n",
       "</div>"
      ],
      "text/plain": [
       "   movieId                               title  \\\n",
       "0        1                    Toy Story (1995)   \n",
       "1        2                      Jumanji (1995)   \n",
       "2        3             Grumpier Old Men (1995)   \n",
       "3        4            Waiting to Exhale (1995)   \n",
       "4        5  Father of the Bride Part II (1995)   \n",
       "\n",
       "                                        genres  \n",
       "0  Adventure|Animation|Children|Comedy|Fantasy  \n",
       "1                   Adventure|Children|Fantasy  \n",
       "2                               Comedy|Romance  \n",
       "3                         Comedy|Drama|Romance  \n",
       "4                                       Comedy  "
      ]
     },
     "execution_count": 33,
     "metadata": {},
     "output_type": "execute_result"
    }
   ],
   "source": [
    "df1.head(5)"
   ]
  },
  {
   "cell_type": "code",
   "execution_count": 34,
   "id": "0a532b75",
   "metadata": {},
   "outputs": [],
   "source": [
    "df1.loc[df1['genres'] == 'no genres listed', 'genres'] = ''\n",
    "df1['genres'] = df1['genres'].str.replace('|', ' ')\n",
    "df1['title'] = df1['title'].apply(lambda x: re.sub(r'\\s*\\([^)]*\\)', '', x))\n"
   ]
  },
  {
   "cell_type": "code",
   "execution_count": 35,
   "id": "f0ca32bf",
   "metadata": {},
   "outputs": [
    {
     "data": {
      "text/plain": [
       "0                         Toy Story\n",
       "1                           Jumanji\n",
       "2                  Grumpier Old Men\n",
       "3                 Waiting to Exhale\n",
       "4       Father of the Bride Part II\n",
       "                  ...              \n",
       "95                             Hate\n",
       "96                         Shopping\n",
       "97    Heidi Fleiss: Hollywood Madam\n",
       "98                        City Hall\n",
       "99                    Bottle Rocket\n",
       "Name: title, Length: 100, dtype: object"
      ]
     },
     "execution_count": 35,
     "metadata": {},
     "output_type": "execute_result"
    }
   ],
   "source": [
    "df1['title'].head(100)"
   ]
  },
  {
   "cell_type": "code",
   "execution_count": 36,
   "id": "724b2920",
   "metadata": {},
   "outputs": [],
   "source": [
    "tfidf = TfidfVectorizer()\n",
    "tfidf_matrix = tfidf.fit_transform(df1['genres'])\n",
    "tfidf_matrix_dense = tfidf_matrix.toarray()"
   ]
  },
  {
   "cell_type": "code",
   "execution_count": 37,
   "id": "f045196b",
   "metadata": {},
   "outputs": [],
   "source": [
    "pca = PCA(n_components=23, svd_solver=\"arpack\")\n",
    "tfidf_matrix_reduced_pca = pca.fit_transform(tfidf_matrix_dense)"
   ]
  },
  {
   "cell_type": "code",
   "execution_count": 13,
   "id": "047771e7",
   "metadata": {},
   "outputs": [],
   "source": [
    "cosine_sim = lil_matrix((tfidf_matrix_reduced_pca.shape[0], tfidf_matrix_reduced_pca.shape[0]))\n",
    "\n",
    "# Compute cosine similarity in chunks\n",
    "chunk_size = 100\n",
    "for i in range(0, tfidf_matrix_reduced_pca.shape[0], chunk_size):\n",
    "    for j in range(i, min(tfidf_matrix_reduced_pca.shape[0], i+chunk_size)):\n",
    "        if tfidf_matrix_reduced_pca[i:j, :].shape[0] > 0:\n",
    "            cosine_sim[i:j, i:j] = cosine_similarity(tfidf_matrix_reduced_pca[i:j], tfidf_matrix_reduced_pca[i:j]) "
   ]
  },
  {
   "cell_type": "code",
   "execution_count": 14,
   "id": "cb990235",
   "metadata": {},
   "outputs": [],
   "source": [
    "def content_based_recommendation(title, cosine_sim=cosine_sim):\n",
    "    idx = df1[df1['title'] == title].index[0] if len(df1[df1['title'] == title]) > 0 else -1\n",
    "    if idx >= 0:\n",
    "        lst = list(enumerate(cosine_sim[idx].toarray()))\n",
    "        sim_scores=np.array(lst[0][1])\n",
    "        movie_indices = np.argsort((sim_scores))\n",
    "        movie_indices=movie_indices[1:11]\n",
    "        return df1['title'].iloc[movie_indices].tolist()\n",
    "    else:\n",
    "        raise ValueError(\"Error: The movie was not found in the dataframe.\")"
   ]
  },
  {
   "cell_type": "code",
   "execution_count": 52,
   "id": "ec40d29e",
   "metadata": {
    "scrolled": true
   },
   "outputs": [
    {
     "name": "stdout",
     "output_type": "stream",
     "text": [
      "Content-Based Recommendations: ['Big Bully', 'In the Bleak Midwinter', 'Kicking and Screaming', 'Last Summer in the Hamptons', 'To Die For', 'American President, The', 'Waiting to Exhale', 'Mighty Aphrodite', 'Postman, The', 'Beautiful Girls']\n"
     ]
    }
   ],
   "source": [
    "user_favorite_movies = ['Jumanji', 'Toy Story']  # Assuming these are the user's favorite movies\n",
    "content_based_recommendations = []\n",
    "for movie in user_favorite_movies:\n",
    "    recommendations = content_based_recommendation(movie)\n",
    "    content_based_recommendations.extend(recommendations)\n",
    "\n",
    "print(\"Content-Based Recommendations:\", content_based_recommendations[:10])"
   ]
  },
  {
   "cell_type": "code",
   "execution_count": 16,
   "id": "04818163",
   "metadata": {},
   "outputs": [],
   "source": [
    "df2=pd.read_csv(r'C:\\Users\\Asus\\Downloads\\ml-25m\\ml-25m\\ratings.csv')"
   ]
  },
  {
   "cell_type": "code",
   "execution_count": 56,
   "id": "ac382432",
   "metadata": {},
   "outputs": [],
   "source": [
    "from surprise import Dataset, Reader, SVD\n",
    "from surprise.model_selection import train_test_split\n",
    "from surprise.accuracy import rmse"
   ]
  },
  {
   "cell_type": "code",
   "execution_count": 18,
   "id": "13b31b03",
   "metadata": {},
   "outputs": [],
   "source": [
    "reader=Reader()\n",
    "data = Dataset.load_from_df(df2[['userId', 'movieId', 'rating']], reader)"
   ]
  },
  {
   "cell_type": "code",
   "execution_count": 67,
   "id": "38025c05",
   "metadata": {},
   "outputs": [],
   "source": [
    "trainset, testset = train_test_split(data, test_size=0.2, random_state=42)"
   ]
  },
  {
   "cell_type": "code",
   "execution_count": 70,
   "id": "1a88d23f",
   "metadata": {},
   "outputs": [],
   "source": [
    "algo = SVD(n_factors=24, reg_all=0.001, lr_all=0.005, n_epochs=20)\n",
    "algo.fit(trainset)\n",
    "predictions = algo.test(testset)"
   ]
  },
  {
   "cell_type": "code",
   "execution_count": 71,
   "id": "da3bfd7e",
   "metadata": {},
   "outputs": [
    {
     "name": "stdout",
     "output_type": "stream",
     "text": [
      "RMSE: 0.7876\n",
      "RMSE: 0.7876319158302448\n"
     ]
    }
   ],
   "source": [
    "accuracy = rmse(predictions)\n",
    "print(\"RMSE:\", accuracy)"
   ]
  },
  {
   "cell_type": "code",
   "execution_count": 46,
   "id": "8805ec03",
   "metadata": {},
   "outputs": [],
   "source": [
    "def collaborative_filtering_recommendations(user_id):\n",
    "    # Get predicted ratings for all movies for the user\n",
    "    user_ratings = []\n",
    "    for movie_id in df2['movieId'].unique():\n",
    "        user_ratings.append((movie_id, algo.predict(user_id, movie_id).est))\n",
    "    # Sort movies by predicted rating\n",
    "    user_ratings.sort(key=lambda x: x[1], reverse=True)\n",
    "    # Extract top recommendations\n",
    "    top_recommendations = [movie_id for movie_id, _ in user_ratings[:10]]\n",
    "    return df1[df1['movieId'].isin(top_recommendations)]\n"
   ]
  },
  {
   "cell_type": "code",
   "execution_count": 51,
   "id": "5412965d",
   "metadata": {},
   "outputs": [
    {
     "data": {
      "text/html": [
       "<div>\n",
       "<style scoped>\n",
       "    .dataframe tbody tr th:only-of-type {\n",
       "        vertical-align: middle;\n",
       "    }\n",
       "\n",
       "    .dataframe tbody tr th {\n",
       "        vertical-align: top;\n",
       "    }\n",
       "\n",
       "    .dataframe thead th {\n",
       "        text-align: right;\n",
       "    }\n",
       "</style>\n",
       "<table border=\"1\" class=\"dataframe\">\n",
       "  <thead>\n",
       "    <tr style=\"text-align: right;\">\n",
       "      <th></th>\n",
       "      <th>movieId</th>\n",
       "      <th>title</th>\n",
       "      <th>genres</th>\n",
       "    </tr>\n",
       "  </thead>\n",
       "  <tbody>\n",
       "    <tr>\n",
       "      <th>351</th>\n",
       "      <td>356</td>\n",
       "      <td>Forrest Gump</td>\n",
       "      <td>Comedy Drama Romance War</td>\n",
       "    </tr>\n",
       "    <tr>\n",
       "      <th>359</th>\n",
       "      <td>364</td>\n",
       "      <td>Lion King, The</td>\n",
       "      <td>Adventure Animation Children Drama Musical IMAX</td>\n",
       "    </tr>\n",
       "    <tr>\n",
       "      <th>4201</th>\n",
       "      <td>4306</td>\n",
       "      <td>Shrek</td>\n",
       "      <td>Adventure Animation Children Comedy Fantasy Ro...</td>\n",
       "    </tr>\n",
       "    <tr>\n",
       "      <th>4887</th>\n",
       "      <td>4993</td>\n",
       "      <td>Lord of the Rings: The Fellowship of the Ring,...</td>\n",
       "      <td>Adventure Fantasy</td>\n",
       "    </tr>\n",
       "    <tr>\n",
       "      <th>5840</th>\n",
       "      <td>5952</td>\n",
       "      <td>Lord of the Rings: The Two Towers, The</td>\n",
       "      <td>Adventure Fantasy</td>\n",
       "    </tr>\n",
       "    <tr>\n",
       "      <th>6258</th>\n",
       "      <td>6377</td>\n",
       "      <td>Finding Nemo</td>\n",
       "      <td>Adventure Animation Children Comedy</td>\n",
       "    </tr>\n",
       "    <tr>\n",
       "      <th>7028</th>\n",
       "      <td>7153</td>\n",
       "      <td>Lord of the Rings: The Return of the King, The</td>\n",
       "      <td>Action Adventure Drama Fantasy</td>\n",
       "    </tr>\n",
       "    <tr>\n",
       "      <th>40597</th>\n",
       "      <td>159817</td>\n",
       "      <td>Planet Earth</td>\n",
       "      <td>Documentary</td>\n",
       "    </tr>\n",
       "    <tr>\n",
       "      <th>45593</th>\n",
       "      <td>170705</td>\n",
       "      <td>Band of Brothers</td>\n",
       "      <td>Action Drama War</td>\n",
       "    </tr>\n",
       "    <tr>\n",
       "      <th>45741</th>\n",
       "      <td>171011</td>\n",
       "      <td>Planet Earth II</td>\n",
       "      <td>Documentary</td>\n",
       "    </tr>\n",
       "  </tbody>\n",
       "</table>\n",
       "</div>"
      ],
      "text/plain": [
       "       movieId                                              title  \\\n",
       "351        356                                       Forrest Gump   \n",
       "359        364                                     Lion King, The   \n",
       "4201      4306                                              Shrek   \n",
       "4887      4993  Lord of the Rings: The Fellowship of the Ring,...   \n",
       "5840      5952             Lord of the Rings: The Two Towers, The   \n",
       "6258      6377                                       Finding Nemo   \n",
       "7028      7153     Lord of the Rings: The Return of the King, The   \n",
       "40597   159817                                       Planet Earth   \n",
       "45593   170705                                   Band of Brothers   \n",
       "45741   171011                                    Planet Earth II   \n",
       "\n",
       "                                                  genres  \n",
       "351                             Comedy Drama Romance War  \n",
       "359      Adventure Animation Children Drama Musical IMAX  \n",
       "4201   Adventure Animation Children Comedy Fantasy Ro...  \n",
       "4887                                   Adventure Fantasy  \n",
       "5840                                   Adventure Fantasy  \n",
       "6258                 Adventure Animation Children Comedy  \n",
       "7028                      Action Adventure Drama Fantasy  \n",
       "40597                                        Documentary  \n",
       "45593                                   Action Drama War  \n",
       "45741                                        Documentary  "
      ]
     },
     "execution_count": 51,
     "metadata": {},
     "output_type": "execute_result"
    }
   ],
   "source": [
    "user_id = 24\n",
    "collab_filtering_recommendations_result = collaborative_filtering_recommendations(user_id)\n",
    "collab_filtering_recommendations_result"
   ]
  },
  {
   "cell_type": "code",
   "execution_count": 79,
   "id": "fb93ef34",
   "metadata": {},
   "outputs": [],
   "source": [
    "from surprise import accuracy\n",
    "\n",
    "def evaluate_collaborative_filtering(predictions):\n",
    "    rmse = accuracy.rmse(predictions, verbose=False)\n",
    "    return rmse\n",
    "# Evaluation Metrics for Content-Based (Diversity)\n",
    "def evaluate_content_based_recommendations(recommendations):\n",
    "    # Create a DataFrame containing recommendations\n",
    "    recommended_movies = df1[df1['title'].isin(recommendations)]\n",
    "    # Calculate diversity metric based on genre distribution\n",
    "    genre_counts = recommended_movies['genres'].str.split().explode().value_counts()\n",
    "    total_recommendations = len(recommended_movies)\n",
    "    diversity = len(genre_counts) / total_recommendations\n",
    "    return diversity\n",
    "\n"
   ]
  },
  {
   "cell_type": "code",
   "execution_count": 76,
   "id": "737c69c7",
   "metadata": {},
   "outputs": [
    {
     "name": "stdout",
     "output_type": "stream",
     "text": [
      "RMSE for Collaborative Filtering: 0.7876319158302448\n"
     ]
    }
   ],
   "source": [
    "# Evaluate collaborative filtering system\n",
    "predictions = algo.test(testset)\n",
    "collaborative_filtering_rmse = evaluate_collaborative_filtering(predictions)\n",
    "print(\"RMSE for Collaborative Filtering:\", collaborative_filtering_rmse)\n"
   ]
  },
  {
   "cell_type": "code",
   "execution_count": 80,
   "id": "48788287",
   "metadata": {},
   "outputs": [
    {
     "name": "stdout",
     "output_type": "stream",
     "text": [
      "Diversity for Content-Based Recommendations: 0.6363636363636364\n"
     ]
    }
   ],
   "source": [
    "# Evaluate content-based system\n",
    "content_based_recommendations = content_based_recommendation(\"Jumanji\")  # Assuming Jumanji is the user's favorite movie\n",
    "content_based_diversity = evaluate_content_based_recommendations(content_based_recommendations)\n",
    "print(\"Diversity for Content-Based Recommendations:\", content_based_diversity)"
   ]
  },
  {
   "cell_type": "code",
   "execution_count": null,
   "id": "ca2bf7d4",
   "metadata": {},
   "outputs": [],
   "source": []
  }
 ],
 "metadata": {
  "kernelspec": {
   "display_name": "Python 3 (ipykernel)",
   "language": "python",
   "name": "python3"
  },
  "language_info": {
   "codemirror_mode": {
    "name": "ipython",
    "version": 3
   },
   "file_extension": ".py",
   "mimetype": "text/x-python",
   "name": "python",
   "nbconvert_exporter": "python",
   "pygments_lexer": "ipython3",
   "version": "3.12.3"
  }
 },
 "nbformat": 4,
 "nbformat_minor": 5
}
